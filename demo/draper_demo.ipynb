{
 "cells": [
  {
   "cell_type": "markdown",
   "metadata": {},
   "source": [
    "# Draper Adder Demo\n",
    "\n",
    "This is a quick demo of the draperry package which includes a draper adder and sum subset finder."
   ]
  },
  {
   "cell_type": "code",
   "execution_count": 2,
   "metadata": {},
   "outputs": [],
   "source": [
    "from draper_adder.main import subset_finder"
   ]
  },
  {
   "cell_type": "markdown",
   "metadata": {},
   "source": [
    "## QOSF Challenge\n",
    "We'll begin with demonstrating the QOSF challenge. The function defaults to [5,7,8,9,1] and output=16."
   ]
  },
  {
   "cell_type": "code",
   "execution_count": 3,
   "metadata": {},
   "outputs": [
    {
     "data": {
      "text/plain": [
       "[(<qiskit.circuit.quantumcircuit.QuantumCircuit at 0x7fddd56b97f0>,\n",
       "  ('1001', '111')),\n",
       " (<qiskit.circuit.quantumcircuit.QuantumCircuit at 0x7fddd7a0d7f0>,\n",
       "  ('1000', '1', '111'))]"
      ]
     },
     "execution_count": 3,
     "metadata": {},
     "output_type": "execute_result"
    }
   ],
   "source": [
    "subset_finder()"
   ]
  },
  {
   "cell_type": "markdown",
   "metadata": {},
   "source": [
    "Given that the output was denoted as a register in the problem, a quantum circuit is provided here to get the indexes of the elements that summ to the desired output.\n",
    "In addition, I've provided a tuple with the binary representation of the integers used as well."
   ]
  },
  {
   "cell_type": "markdown",
   "metadata": {},
   "source": [
    "Checking our results...."
   ]
  },
  {
   "cell_type": "code",
   "execution_count": 4,
   "metadata": {},
   "outputs": [
    {
     "name": "stdout",
     "output_type": "stream",
     "text": [
      "          \n",
      "q_0: ─────\n",
      "     ┌───┐\n",
      "q_1: ┤ X ├\n",
      "     └───┘\n",
      "q_2: ─────\n",
      "     ┌───┐\n",
      "q_3: ┤ X ├\n",
      "     └───┘\n",
      "q_4: ─────\n",
      "          \n"
     ]
    }
   ],
   "source": [
    "ans = subset_finder()\n",
    "# Let's print out the circuit\n",
    "print(ans[0][0])"
   ]
  },
  {
   "cell_type": "markdown",
   "metadata": {},
   "source": [
    "As we can tell the numbers chosen were 7 and 9 which are placed at indices 1 and 3 respectively which is reflected in the circuit!"
   ]
  },
  {
   "cell_type": "markdown",
   "metadata": {},
   "source": [
    "## General Addition\n",
    "We can also find subsets of various other input list.  Let's check it out!"
   ]
  },
  {
   "cell_type": "code",
   "execution_count": 7,
   "metadata": {},
   "outputs": [],
   "source": [
    "result = subset_finder([1,2,3,7],10)"
   ]
  },
  {
   "cell_type": "code",
   "execution_count": 8,
   "metadata": {},
   "outputs": [
    {
     "name": "stdout",
     "output_type": "stream",
     "text": [
      "[(<qiskit.circuit.quantumcircuit.QuantumCircuit object at 0x7fddd7571f70>, ('111', '1', '10')), (<qiskit.circuit.quantumcircuit.QuantumCircuit object at 0x7fddd7a4b250>, ('11', '111'))]\n"
     ]
    }
   ],
   "source": [
    "print(result)"
   ]
  },
  {
   "cell_type": "code",
   "execution_count": null,
   "metadata": {},
   "outputs": [],
   "source": [
    "We get our two desired results of [1,2,7] and [3,7]!"
   ]
  },
  {
   "cell_type": "code",
   "execution_count": 9,
   "metadata": {},
   "outputs": [
    {
     "name": "stdout",
     "output_type": "stream",
     "text": [
      "     ┌───┐\n",
      "q_0: ┤ X ├\n",
      "     ├───┤\n",
      "q_1: ┤ X ├\n",
      "     └───┘\n",
      "q_2: ─────\n",
      "     ┌───┐\n",
      "q_3: ┤ X ├\n",
      "     └───┘\n"
     ]
    }
   ],
   "source": [
    "print(result[0][0])"
   ]
  },
  {
   "cell_type": "code",
   "execution_count": null,
   "metadata": {},
   "outputs": [],
   "source": [
    "The circuit also matches with the correct index."
   ]
  },
  {
   "cell_type": "markdown",
   "metadata": {},
   "source": [
    "## Draper Adder\n",
    "There is also a draper adder available for use with a quantum state vector simulator provided by qiskit. It can take in binary strings and integers."
   ]
  },
  {
   "cell_type": "code",
   "execution_count": null,
   "metadata": {},
   "outputs": [],
   "source": [
    "from draper_adder.draper_adder import draper_adder"
   ]
  },
  {
   "cell_type": "code",
   "execution_count": 11,
   "metadata": {},
   "outputs": [
    {
     "name": "stdout",
     "output_type": "stream",
     "text": [
      "1001\n"
     ]
    }
   ],
   "source": [
    "result = draper_adder('010',7)\n",
    "print(result)"
   ]
  },
  {
   "cell_type": "code",
   "execution_count": null,
   "metadata": {},
   "outputs": [],
   "source": [
    "We added 2 and 7 and got our desired result of 9! Nice!"
   ]
  },
  {
   "cell_type": "markdown",
   "metadata": {},
   "source": [
    "## Conclusion\n",
    "Further improvements to this module can be made by including different quantum arithmetic methods and including various simulators and hardware.\n",
    "\n",
    "Enjoy :) Thank you so much for reading this demo!"
   ]
  }
 ],
 "metadata": {
  "interpreter": {
   "hash": "58b72576b6658bd6ccd68b866a6387eb3eb2eb4149b077f5a55bf8fd5b90c11e"
  },
  "kernelspec": {
   "display_name": "Python (3.8)",
   "language": "python",
   "name": "quantum"
  },
  "language_info": {
   "codemirror_mode": {
    "name": "ipython",
    "version": 3
   },
   "file_extension": ".py",
   "mimetype": "text/x-python",
   "name": "python",
   "nbconvert_exporter": "python",
   "pygments_lexer": "ipython3",
   "version": "3.9.7"
  }
 },
 "nbformat": 4,
 "nbformat_minor": 2
}
